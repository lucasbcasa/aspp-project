{
 "cells": [
  {
   "cell_type": "code",
   "execution_count": 3,
   "id": "ad1fc561-8bea-49c1-8455-ddaea7dd755b",
   "metadata": {},
   "outputs": [],
   "source": [
    "import tightbinding as tb"
   ]
  },
  {
   "cell_type": "code",
   "execution_count": null,
   "id": "f0c153e7-9976-44b9-bf9c-5855f2278fc0",
   "metadata": {},
   "outputs": [],
   "source": []
  }
 ],
 "metadata": {
  "kernelspec": {
   "display_name": "Python 3",
   "language": "python",
   "name": "python3"
  },
  "language_info": {
   "codemirror_mode": {
    "name": "ipython",
    "version": 3
   },
   "file_extension": ".py",
   "mimetype": "text/x-python",
   "name": "python",
   "nbconvert_exporter": "python",
   "pygments_lexer": "ipython3",
   "version": "3.8.8"
  }
 },
 "nbformat": 4,
 "nbformat_minor": 5
}
