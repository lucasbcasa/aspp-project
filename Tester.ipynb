{
 "cells": [
  {
   "cell_type": "code",
   "execution_count": 3,
   "id": "ad1fc561-8bea-49c1-8455-ddaea7dd755b",
   "metadata": {},
   "outputs": [],
   "source": [
    "import tightbinding as tb"
   ]
  },
  {
   "cell_type": "code",
   "execution_count": 6,
   "id": "f0c153e7-9976-44b9-bf9c-5855f2278fc0",
   "metadata": {},
   "outputs": [],
   "source": [
    "x = []\n"
   ]
  },
  {
   "cell_type": "code",
   "execution_count": 7,
   "id": "f849256f-18bd-405f-b84b-aed332e11b27",
   "metadata": {},
   "outputs": [
    {
     "data": {
      "text/plain": [
       "[1]"
      ]
     },
     "execution_count": 7,
     "metadata": {},
     "output_type": "execute_result"
    }
   ],
   "source": [
    "x"
   ]
  },
  {
   "cell_type": "code",
   "execution_count": 8,
   "id": "7db125e7-69cd-44bf-835d-90eade436f8d",
   "metadata": {},
   "outputs": [],
   "source": [
    "x += [1]"
   ]
  },
  {
   "cell_type": "code",
   "execution_count": 9,
   "id": "4eaa02cf-11c6-4551-b50b-6d507bddb0f5",
   "metadata": {},
   "outputs": [
    {
     "data": {
      "text/plain": [
       "[1, 1]"
      ]
     },
     "execution_count": 9,
     "metadata": {},
     "output_type": "execute_result"
    }
   ],
   "source": [
    "x"
   ]
  },
  {
   "cell_type": "code",
   "execution_count": 10,
   "id": "fcc4911f-d9ba-496a-97d4-09861fd76213",
   "metadata": {},
   "outputs": [],
   "source": [
    "x += [1]"
   ]
  },
  {
   "cell_type": "code",
   "execution_count": 11,
   "id": "3d9804a4-f61f-4a90-891a-2b63df1eb1a6",
   "metadata": {},
   "outputs": [],
   "source": [
    "x += [1]\n"
   ]
  },
  {
   "cell_type": "code",
   "execution_count": 12,
   "id": "4123aae5-7c7c-4ba7-bbb6-b69583ef0120",
   "metadata": {},
   "outputs": [
    {
     "data": {
      "text/plain": [
       "[1, 1, 1, 1]"
      ]
     },
     "execution_count": 12,
     "metadata": {},
     "output_type": "execute_result"
    }
   ],
   "source": [
    "x"
   ]
  },
  {
   "cell_type": "code",
   "execution_count": 15,
   "id": "c055924b-1b98-49f3-980c-c5c063fe94a1",
   "metadata": {},
   "outputs": [
    {
     "data": {
      "text/plain": [
       "2"
      ]
     },
     "execution_count": 15,
     "metadata": {},
     "output_type": "execute_result"
    }
   ],
   "source": [
    "- (-4 // 3)"
   ]
  },
  {
   "cell_type": "code",
   "execution_count": 14,
   "id": "e0d3cc19-7787-4af9-a993-3eb61fbb10c5",
   "metadata": {},
   "outputs": [
    {
     "data": {
      "text/plain": [
       "1.3333333333333333"
      ]
     },
     "execution_count": 14,
     "metadata": {},
     "output_type": "execute_result"
    }
   ],
   "source": [
    "4 / 3"
   ]
  },
  {
   "cell_type": "code",
   "execution_count": null,
   "id": "ad1d3349-036d-4731-b72c-60e0e3a490f9",
   "metadata": {},
   "outputs": [],
   "source": []
  }
 ],
 "metadata": {
  "kernelspec": {
   "display_name": "Python 3",
   "language": "python",
   "name": "python3"
  },
  "language_info": {
   "codemirror_mode": {
    "name": "ipython",
    "version": 3
   },
   "file_extension": ".py",
   "mimetype": "text/x-python",
   "name": "python",
   "nbconvert_exporter": "python",
   "pygments_lexer": "ipython3",
   "version": "3.8.8"
  }
 },
 "nbformat": 4,
 "nbformat_minor": 5
}
