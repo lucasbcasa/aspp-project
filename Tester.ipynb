{
 "cells": [
  {
   "cell_type": "code",
   "execution_count": 3,
   "id": "ad1fc561-8bea-49c1-8455-ddaea7dd755b",
   "metadata": {},
   "outputs": [],
   "source": [
    "import tightbinding as tb"
   ]
  },
  {
   "cell_type": "code",
   "execution_count": 4,
   "id": "06718b64-042c-4c6f-9657-d60a2e476ede",
   "metadata": {},
   "outputs": [
    {
     "data": {
      "text/plain": [
       "<module 'nanowires' from './tb\\\\nanowires.py'>"
      ]
     },
     "execution_count": 4,
     "metadata": {},
     "output_type": "execute_result"
    }
   ],
   "source": [
    "tb.nanowires"
   ]
  },
  {
   "cell_type": "code",
   "execution_count": null,
   "id": "267b3a0f-7639-49c1-8d43-85939665b837",
   "metadata": {},
   "outputs": [],
   "source": []
  }
 ],
 "metadata": {
  "kernelspec": {
   "display_name": "Python 3",
   "language": "python",
   "name": "python3"
  },
  "language_info": {
   "codemirror_mode": {
    "name": "ipython",
    "version": 3
   },
   "file_extension": ".py",
   "mimetype": "text/x-python",
   "name": "python",
   "nbconvert_exporter": "python",
   "pygments_lexer": "ipython3",
   "version": "3.8.8"
  }
 },
 "nbformat": 4,
 "nbformat_minor": 5
}
